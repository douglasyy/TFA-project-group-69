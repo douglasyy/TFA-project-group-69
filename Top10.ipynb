{
 "cells": [
  {
   "cell_type": "code",
   "execution_count": null,
   "id": "0ddbdc32-2bb1-416b-9a5f-3c985bfb05c2",
   "metadata": {},
   "outputs": [],
   "source": [
    "import pandas as pd\n",
    "\n",
    "df = pd.read_csv('311_Service_Requests_2020.csv')\n",
    "df"
   ]
  },
  {
   "cell_type": "code",
   "execution_count": null,
   "id": "6356758b-155d-46cb-8530-112f4f0ec936",
   "metadata": {},
   "outputs": [],
   "source": [
    "# pick only the rows with Zip 10025\n",
    "zones = df[df['Incident Zip'] == 10025]\n",
    "zones"
   ]
  },
  {
   "cell_type": "code",
   "execution_count": null,
   "id": "e0e33a63-8f9b-4f3f-bad3-fa78a2bb981d",
   "metadata": {},
   "outputs": [],
   "source": [
    "# top 10 causes of calls\n",
    "top10 = zones['Complaint Type'].value_counts().head(10)\n",
    "top10"
   ]
  },
  {
   "cell_type": "code",
   "execution_count": null,
   "id": "7d3a8cf1-fb7f-48c6-a615-44ea6d5edd27",
   "metadata": {},
   "outputs": [],
   "source": []
  }
 ],
 "metadata": {
  "kernelspec": {
   "display_name": "Python 3",
   "language": "python",
   "name": "python3"
  },
  "language_info": {
   "codemirror_mode": {
    "name": "ipython",
    "version": 3
   },
   "file_extension": ".py",
   "mimetype": "text/x-python",
   "name": "python",
   "nbconvert_exporter": "python",
   "pygments_lexer": "ipython3",
   "version": "3.8.8"
  }
 },
 "nbformat": 4,
 "nbformat_minor": 5
}
