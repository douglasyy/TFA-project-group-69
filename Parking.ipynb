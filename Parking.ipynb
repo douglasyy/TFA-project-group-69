{
 "cells": [
  {
   "cell_type": "code",
   "execution_count": 1,
   "id": "c6f4a6a8-476f-4a90-b3ee-eb8e95c820cd",
   "metadata": {},
   "outputs": [],
   "source": [
    "import pandas as pd"
   ]
  },
  {
   "cell_type": "code",
   "execution_count": 3,
   "id": "f7512333-8ea6-4f8f-8738-de4bdbc50529",
   "metadata": {},
   "outputs": [
    {
     "name": "stderr",
     "output_type": "stream",
     "text": [
      "C:\\Users\\10535\\anaconda3\\lib\\site-packages\\IPython\\core\\interactiveshell.py:3172: DtypeWarning: Columns (31,32) have mixed types.Specify dtype option on import or set low_memory=False.\n",
      "  has_raised = await self.run_ast_nodes(code_ast.body, cell_name,\n"
     ]
    }
   ],
   "source": [
    "df = pd.read_csv(\"311_Service_Requests_2020.csv\")"
   ]
  },
  {
   "cell_type": "code",
   "execution_count": 6,
   "id": "09e6e33b-8ce0-483a-b9e2-f85b2a54e7f4",
   "metadata": {},
   "outputs": [],
   "source": [
    "df_loc = df[df['Incident Zip'] ==  10025]\n",
    "num_inc = len(df_loc)"
   ]
  },
  {
   "cell_type": "code",
   "execution_count": 7,
   "id": "ab55933f-53ba-4035-979c-1f0228cf5be5",
   "metadata": {},
   "outputs": [],
   "source": [
    "df_locip = df_loc[df_loc['Complaint Type'] == 'Illegal Parking']\n",
    "num_ip = len(df_locip)"
   ]
  },
  {
   "cell_type": "code",
   "execution_count": 9,
   "id": "478067c5-67fa-4a8f-ad3e-2c6486e3581b",
   "metadata": {},
   "outputs": [
    {
     "data": {
      "text/plain": [
       "0.02894419471549172"
      ]
     },
     "execution_count": 9,
     "metadata": {},
     "output_type": "execute_result"
    }
   ],
   "source": [
    "fra_loc = num_ip / num_inc\n",
    "fra_loc"
   ]
  },
  {
   "cell_type": "code",
   "execution_count": 10,
   "id": "479ac7b8-f4c7-4b9a-8300-476affb04247",
   "metadata": {},
   "outputs": [],
   "source": [
    "df_ip = df[df['Complaint Type'] == 'Illegal Parking']\n",
    "ip = len(df_ip)"
   ]
  },
  {
   "cell_type": "code",
   "execution_count": 11,
   "id": "954d4077-0f3d-4fae-b21a-7c00220fd9ed",
   "metadata": {},
   "outputs": [],
   "source": [
    "fra = ip / len(df)"
   ]
  },
  {
   "cell_type": "code",
   "execution_count": 12,
   "id": "254b971e-764d-4f10-8788-bf7f18551f6a",
   "metadata": {},
   "outputs": [],
   "source": [
    "higher_parking_proportion = fra_loc > fra "
   ]
  },
  {
   "cell_type": "code",
   "execution_count": 13,
   "id": "6f5fc0e3-92c5-4de8-beff-bd08b5a46408",
   "metadata": {},
   "outputs": [
    {
     "data": {
      "text/plain": [
       "False"
      ]
     },
     "execution_count": 13,
     "metadata": {},
     "output_type": "execute_result"
    }
   ],
   "source": [
    "higher_parking_proportion"
   ]
  },
  {
   "cell_type": "code",
   "execution_count": null,
   "id": "3135c3ef-a078-49c1-9357-acb9a316fc52",
   "metadata": {},
   "outputs": [],
   "source": []
  }
 ],
 "metadata": {
  "kernelspec": {
   "display_name": "Python 3 (ipykernel)",
   "language": "python",
   "name": "python3"
  },
  "language_info": {
   "codemirror_mode": {
    "name": "ipython",
    "version": 3
   },
   "file_extension": ".py",
   "mimetype": "text/x-python",
   "name": "python",
   "nbconvert_exporter": "python",
   "pygments_lexer": "ipython3",
   "version": "3.8.8"
  }
 },
 "nbformat": 4,
 "nbformat_minor": 5
}
